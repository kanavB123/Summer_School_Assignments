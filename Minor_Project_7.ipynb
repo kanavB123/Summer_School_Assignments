{
  "cells": [
    {
      "cell_type": "markdown",
      "metadata": {
        "id": "view-in-github",
        "colab_type": "text"
      },
      "source": [
        "<a href=\"https://colab.research.google.com/github/ABHINAB-CHHETRI/Minor-Projects-AI-ML-Summer-School-Thapar-/blob/main/Minor_Project_7.ipynb\" target=\"_parent\"><img src=\"https://colab.research.google.com/assets/colab-badge.svg\" alt=\"Open In Colab\"/></a>"
      ]
    },
    {
      "cell_type": "code",
      "source": [
        "import csv\n",
        "\n",
        "filefp=open(\"/content/Mini Project - Marks Adding (1).csv\",\"r\")\n",
        "reader=csv.reader(filefp)\n",
        "next(reader)\n",
        "marks_dict = {}#total dictionary\n",
        "for row in reader:\n",
        "    rollno,marks=row[0],int(row[1])\n",
        "    if rollno in marks_dict:\n",
        "        marks_dict[rollno]+=marks\n",
        "    else:\n",
        "        marks_dict[rollno]=marks\n",
        "\n",
        "writefp=open(\"Total Marks.csv\",\"w\")\n",
        "writer=csv.writer(writefp)\n",
        "\n",
        "for rollno,total_marks in marks_dict.items():\n",
        "    writer.writerow([rollno,total_marks])\n",
        "\n",
        "writefp.close()\n",
        "filefp.close()"
      ],
      "metadata": {
        "id": "7IWOdLYk6kSJ"
      },
      "execution_count": 9,
      "outputs": []
    }
  ],
  "metadata": {
    "colab": {
      "provenance": [],
      "include_colab_link": true
    },
    "kernelspec": {
      "display_name": "Python 3",
      "name": "python3"
    }
  },
  "nbformat": 4,
  "nbformat_minor": 0
}