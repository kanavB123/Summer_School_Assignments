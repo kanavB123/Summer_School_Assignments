{
  "cells": [
    {
      "cell_type": "code",
      "source": [
        "import random\n",
        "import string\n",
        "import csv"
      ],
      "metadata": {
        "id": "ZXY2Uh0FRpyR"
      },
      "execution_count": 1,
      "outputs": []
    },
    {
      "cell_type": "markdown",
      "source": [],
      "metadata": {
        "id": "afGkMcAHRpqy"
      }
    },
    {
      "cell_type": "code",
      "source": [
        "def create_file(file_size):\n",
        "  target_size=file_size*1024*1024\n",
        "  char_in_one_line=50\n",
        "  num_of_lines=target_size//(char_in_one_line+1)#newline character\n",
        "  filefp=open(f\"{file_size}mb.txt\",\"w\")\n",
        "  writer=csv.writer(filefp)\n",
        "  for i in range(0,num_of_lines):\n",
        "    ramdom_string=\"\".join(random.choices(string.ascii_letters,k=char_in_one_line))\n",
        "    writer.writerows([ramdom_string])\n",
        "create_file(50)\n",
        "create_file(100)\n",
        "create_file(150)\n",
        "create_file(200)\n",
        "create_file(250)\n",
        "create_file(300)"
      ],
      "metadata": {
        "id": "1gr4n99cRtLV"
      },
      "execution_count": 2,
      "outputs": []
    },
    {
      "cell_type": "code",
      "source": [
        "print(\"PYTHON TIMES/N\")\n",
        "import time\n",
        "for i in [50,100,150,200,250,300]:\n",
        "  start=time.time()\n",
        "  filefp=open(f\"{i}mb.txt\",\"r\")\n",
        "  writefp=open(f\"{i}mbwrite.txt\",\"w\")\n",
        "  for X in filefp: #when you iterate over a file it automitaclly goes over line by line\n",
        "    writefp.write(X.upper())\n",
        "  filefp.close()\n",
        "  writefp.close()\n",
        "  end=time.time()\n",
        "  print(f\"{i}mb = \",end-start,\" second \\n\")\n",
        "\n"
      ],
      "metadata": {
        "id": "KiRQzCmnTZb5",
        "outputId": "492eb62b-f088-47a0-99d4-1efb0868d793",
        "colab": {
          "base_uri": "https://localhost:8080/"
        }
      },
      "execution_count": 3,
      "outputs": [
        {
          "output_type": "stream",
          "name": "stdout",
          "text": [
            "PYTHON TIMES/N\n",
            "50mb =  0.6688933372497559  second \n",
            "\n",
            "100mb =  1.3227555751800537  second \n",
            "\n",
            "150mb =  2.790381908416748  second \n",
            "\n",
            "200mb =  5.138732671737671  second \n",
            "\n",
            "250mb =  4.86920428276062  second \n",
            "\n",
            "300mb =  4.533987522125244  second \n",
            "\n"
          ]
        }
      ]
    },
    {
      "cell_type": "code",
      "source": [
        "!apt-get install g++\n",
        "!g++ -o output your_script.cpp && ./output"
      ],
      "metadata": {
        "id": "UJbvphGuVmHn",
        "outputId": "fb55cd98-4b13-456f-a99d-0020a32aa093",
        "colab": {
          "base_uri": "https://localhost:8080/"
        }
      },
      "execution_count": 4,
      "outputs": [
        {
          "output_type": "stream",
          "name": "stdout",
          "text": [
            "Reading package lists... Done\n",
            "Building dependency tree... Done\n",
            "Reading state information... Done\n",
            "g++ is already the newest version (4:11.2.0-1ubuntu1).\n",
            "g++ set to manually installed.\n",
            "0 upgraded, 0 newly installed, 0 to remove and 35 not upgraded.\n",
            "\u001b[01m\u001b[Kcc1plus:\u001b[m\u001b[K \u001b[01;31m\u001b[Kfatal error: \u001b[m\u001b[Kyour_script.cpp: No such file or directory\n",
            "compilation terminated.\n"
          ]
        }
      ]
    },
    {
      "cell_type": "code",
      "source": [
        "\"\"\"#include <iostream>\n",
        "#include <fstream>\n",
        "#include <chrono>\n",
        "using namespace std;\n",
        "\n",
        "void processFile(int size) {\n",
        "    ifstream inFile(to_string(size) + \"mb.txt\");\n",
        "    ofstream outFile(to_string(size) + \"mbwrite.txt\");\n",
        "\n",
        "    auto start = chrono::high_resolution_clock::now();\n",
        "    string line;\n",
        "    while (getline(inFile, line)) {\n",
        "        for (char &c : line) c = toupper(c);\n",
        "        outFile << line << '\\n';\n",
        "    }\n",
        "    auto end = chrono::high_resolution_clock::now();\n",
        "\n",
        "    cout << size << \"MB = \" << chrono::duration_cast<seconds>(end - start).count() << \"s\\n\";\n",
        "}\n",
        "\n",
        "int main() {\n",
        "    cout << \"C++ TIMES\\n\";\n",
        "    for (int size : {50, 100, 150, 200, 250, 300}) processFile(size);\n",
        "}\n",
        "\"\"\""
      ],
      "metadata": {
        "id": "6iKR7EGHVeK7",
        "outputId": "550f3a97-df86-4089-da9d-667e48f7c984",
        "colab": {
          "base_uri": "https://localhost:8080/",
          "height": 105
        }
      },
      "execution_count": 5,
      "outputs": [
        {
          "output_type": "execute_result",
          "data": {
            "text/plain": [
              "'#include <iostream>\\n#include <fstream>\\n#include <chrono>\\nusing namespace std;\\n\\nvoid processFile(int size) {\\n    ifstream inFile(to_string(size) + \"mb.txt\");\\n    ofstream outFile(to_string(size) + \"mbwrite.txt\");\\n\\n    auto start = chrono::high_resolution_clock::now();\\n    string line;\\n    while (getline(inFile, line)) {\\n        for (char &c : line) c = toupper(c);\\n        outFile << line << \\'\\n\\';\\n    }\\n    auto end = chrono::high_resolution_clock::now();\\n\\n    cout << size << \"MB = \" << chrono::duration_cast<seconds>(end - start).count() << \"s\\n\";\\n}\\n\\nint main() {\\n    cout << \"C++ TIMES\\n\";\\n    for (int size : {50, 100, 150, 200, 250, 300}) processFile(size);\\n}\\n'"
            ],
            "application/vnd.google.colaboratory.intrinsic+json": {
              "type": "string"
            }
          },
          "metadata": {},
          "execution_count": 5
        }
      ]
    }
  ],
  "metadata": {
    "colab": {
      "provenance": []
    },
    "kernelspec": {
      "display_name": "Python 3",
      "name": "python3"
    }
  },
  "nbformat": 4,
  "nbformat_minor": 0
}