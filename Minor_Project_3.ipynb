{
  "cells": [
    {
      "cell_type": "markdown",
      "metadata": {
        "id": "view-in-github",
        "colab_type": "text"
      },
      "source": [
        "<a href=\"https://colab.research.google.com/github/ABHINAB-CHHETRI/Minor-Projects-AI-ML-Summer-School-Thapar-/blob/main/Minor_Project_3.ipynb\" target=\"_parent\"><img src=\"https://colab.research.google.com/assets/colab-badge.svg\" alt=\"Open In Colab\"/></a>"
      ]
    },
    {
      "cell_type": "code",
      "source": [
        "import random\n",
        "\n",
        "Set = [-12, -3, -6, 7, 2, -2, 6, 3, 9, -7, -5, -8, 1, 11, -9, -4]  # Convert set to list\n",
        "SetSize = 5\n",
        "ResultList = set()\n",
        "\n",
        "for _ in range(1000):\n",
        "    subset = sorted(random.sample(Set, SetSize))\n",
        "    if sum(subset) == 0:\n",
        "        ResultList.add(tuple(subset))\n",
        "\n",
        "for subset in ResultList:\n",
        "    print(subset)\n",
        "\n",
        "print(\"\\nTotal subsets:\", len(ResultList))\n"
      ],
      "metadata": {
        "id": "Ur7RvcEDqVDb",
        "outputId": "06621fe3-06bd-41db-a66c-d4358762cccc",
        "colab": {
          "base_uri": "https://localhost:8080/"
        }
      },
      "execution_count": null,
      "outputs": [
        {
          "output_type": "stream",
          "name": "stdout",
          "text": [
            "(-9, -8, -3, 9, 11)\n",
            "(-6, -5, 1, 3, 7)\n",
            "(-7, -4, -3, 3, 11)\n",
            "(-8, -5, -4, 6, 11)\n",
            "(-7, -6, -2, 6, 9)\n",
            "(-9, -5, -4, 7, 11)\n",
            "(-7, -3, 1, 2, 7)\n",
            "(-9, -6, -3, 7, 11)\n",
            "(-8, -2, 1, 3, 6)\n",
            "(-6, -5, -2, 2, 11)\n",
            "(-9, -8, 1, 7, 9)\n",
            "(-6, -4, -2, 3, 9)\n",
            "(-6, -4, -3, 2, 11)\n",
            "(-5, -3, -2, 1, 9)\n",
            "(-9, -5, -2, 7, 9)\n",
            "(-9, -6, -2, 6, 11)\n",
            "(-7, -3, -2, 1, 11)\n",
            "(-6, -3, -2, 2, 9)\n",
            "(-8, -3, 2, 3, 6)\n",
            "(-8, -7, -2, 6, 11)\n",
            "(-6, -4, -2, 1, 11)\n",
            "(-12, -9, 1, 9, 11)\n",
            "\n",
            "Total subsets: 22\n"
          ]
        }
      ]
    }
  ],
  "metadata": {
    "colab": {
      "toc_visible": true,
      "provenance": [],
      "include_colab_link": true
    },
    "kernelspec": {
      "display_name": "Python 3",
      "name": "python3"
    }
  },
  "nbformat": 4,
  "nbformat_minor": 0
}