{
  "nbformat": 4,
  "nbformat_minor": 0,
  "metadata": {
    "colab": {
      "provenance": [],
      "authorship_tag": "ABX9TyP3gOxK9gIAucGLVKW05Ubk",
      "include_colab_link": true
    },
    "kernelspec": {
      "name": "python3",
      "display_name": "Python 3"
    },
    "language_info": {
      "name": "python"
    }
  },
  "cells": [
    {
      "cell_type": "markdown",
      "metadata": {
        "id": "view-in-github",
        "colab_type": "text"
      },
      "source": [
        "<a href=\"https://colab.research.google.com/github/ABHINAB-CHHETRI/Minor-Projects-AI-ML-Summer-School-Thapar-/blob/main/Minor_Project_2.ipynb\" target=\"_parent\"><img src=\"https://colab.research.google.com/assets/colab-badge.svg\" alt=\"Open In Colab\"/></a>"
      ]
    },
    {
      "cell_type": "code",
      "execution_count": 2,
      "metadata": {
        "colab": {
          "base_uri": "https://localhost:8080/"
        },
        "id": "8yTD8gc7Qd3Q",
        "outputId": "31064e1f-47db-49ad-d75e-51a8dcc5b423"
      },
      "outputs": [
        {
          "output_type": "stream",
          "name": "stdout",
          "text": [
            "[1, 2, 3, 'Ram', 'Shyam', 'Aman']\n"
          ]
        }
      ],
      "source": [
        "L = [\"Ram\", 1, \"Shyam\", 2, \"Aman\", 3]\n",
        "L1, L2 = [], []\n",
        "\n",
        "for item in L:\n",
        "    try:\n",
        "        L1.append(int(item))  # Attempt to convert item to integer\n",
        "    except ValueError:  # Catch conversion errors\n",
        "        L2.append(item)  # If conversion fails, it's a string\n",
        "\n",
        "solution = L1 + L2\n",
        "print(solution)\n",
        "\n"
      ]
    }
  ]
}