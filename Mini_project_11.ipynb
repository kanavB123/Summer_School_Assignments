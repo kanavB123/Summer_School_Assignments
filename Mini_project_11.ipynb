{
  "nbformat": 4,
  "nbformat_minor": 0,
  "metadata": {
    "colab": {
      "provenance": [],
      "authorship_tag": "ABX9TyMokPjuH7g+WG5GW0EofMbp",
      "include_colab_link": true
    },
    "kernelspec": {
      "name": "python3",
      "display_name": "Python 3"
    },
    "language_info": {
      "name": "python"
    }
  },
  "cells": [
    {
      "cell_type": "markdown",
      "metadata": {
        "id": "view-in-github",
        "colab_type": "text"
      },
      "source": [
        "<a href=\"https://colab.research.google.com/github/kanavB123/Summer_School_Assignments/blob/main/Mini_project_11.ipynb\" target=\"_parent\"><img src=\"https://colab.research.google.com/assets/colab-badge.svg\" alt=\"Open In Colab\"/></a>"
      ]
    },
    {
      "cell_type": "markdown",
      "source": [
        "Step 1: Install Required Libraries"
      ],
      "metadata": {
        "id": "e4EHfZLmktFC"
      }
    },
    {
      "cell_type": "code",
      "execution_count": 7,
      "metadata": {
        "colab": {
          "base_uri": "https://localhost:8080/"
        },
        "id": "NvAVLo0WjhqZ",
        "outputId": "cf0a89f8-1db9-4f2d-cedb-632aad1078e2"
      },
      "outputs": [
        {
          "output_type": "stream",
          "name": "stdout",
          "text": [
            "Requirement already satisfied: requests in /usr/local/lib/python3.11/dist-packages (2.32.3)\n",
            "Requirement already satisfied: beautifulsoup4 in /usr/local/lib/python3.11/dist-packages (4.13.4)\n",
            "Requirement already satisfied: charset-normalizer<4,>=2 in /usr/local/lib/python3.11/dist-packages (from requests) (3.4.2)\n",
            "Requirement already satisfied: idna<4,>=2.5 in /usr/local/lib/python3.11/dist-packages (from requests) (3.10)\n",
            "Requirement already satisfied: urllib3<3,>=1.21.1 in /usr/local/lib/python3.11/dist-packages (from requests) (2.4.0)\n",
            "Requirement already satisfied: certifi>=2017.4.17 in /usr/local/lib/python3.11/dist-packages (from requests) (2025.6.15)\n",
            "Requirement already satisfied: soupsieve>1.2 in /usr/local/lib/python3.11/dist-packages (from beautifulsoup4) (2.7)\n",
            "Requirement already satisfied: typing-extensions>=4.0.0 in /usr/local/lib/python3.11/dist-packages (from beautifulsoup4) (4.14.0)\n"
          ]
        }
      ],
      "source": [
        "!pip install requests beautifulsoup4\n"
      ]
    },
    {
      "cell_type": "markdown",
      "source": [
        "Step 2: Import Libraries"
      ],
      "metadata": {
        "id": "TFZR6mMHkwnv"
      }
    },
    {
      "cell_type": "code",
      "source": [
        "import requests\n",
        "from bs4 import BeautifulSoup\n",
        "import re\n",
        "from urllib.parse import urljoin, urlparse\n"
      ],
      "metadata": {
        "id": "XCajlLfykys-"
      },
      "execution_count": 8,
      "outputs": []
    },
    {
      "cell_type": "markdown",
      "source": [
        "Step 3: Define the Email Scraper Function"
      ],
      "metadata": {
        "id": "ibHr0yQ6k0zH"
      }
    },
    {
      "cell_type": "code",
      "source": [
        "def scrape_emails(start_url, max_pages=10):\n",
        "    visited = set()\n",
        "    to_visit = [start_url]\n",
        "    found_emails = set()\n",
        "    count = 0\n",
        "\n",
        "    while to_visit and count < max_pages:\n",
        "        url = to_visit.pop(0)\n",
        "        if url in visited:\n",
        "            continue\n",
        "        visited.add(url)\n",
        "        count += 1\n",
        "\n",
        "        try:\n",
        "            response = requests.get(url, timeout=5)\n",
        "            soup = BeautifulSoup(response.text, 'html.parser')\n",
        "\n",
        "            # Extract and collect emails from page\n",
        "            emails = set(re.findall(r\"[a-zA-Z0-9._%+-]+@[a-zA-Z0-9.-]+\\.[a-zA-Z]{2,}\", response.text))\n",
        "            found_emails.update(emails)\n",
        "\n",
        "            # Find and queue up internal links\n",
        "            for link_tag in soup.find_all('a', href=True):\n",
        "                link = urljoin(url, link_tag['href'])\n",
        "                parsed_link = urlparse(link)\n",
        "                if parsed_link.netloc == urlparse(start_url).netloc:\n",
        "                    if link not in visited and link.startswith('http'):\n",
        "                        to_visit.append(link)\n",
        "\n",
        "        except requests.RequestException:\n",
        "            continue\n",
        "\n",
        "    return found_emails\n"
      ],
      "metadata": {
        "id": "8tQ23IDfk3KE"
      },
      "execution_count": 9,
      "outputs": []
    },
    {
      "cell_type": "markdown",
      "source": [
        "Step 4: Run the Scraper"
      ],
      "metadata": {
        "id": "XwQ5Ap9Lk6eV"
      }
    },
    {
      "cell_type": "code",
      "source": [
        "start_url = 'https://www.scrapethissite.com'  # Replace with any site you want to crawl\n",
        "emails = scrape_emails(start_url, max_pages=5)\n",
        "\n",
        "print(\"Found emails:\")\n",
        "for email in emails:\n",
        "    print(email)\n"
      ],
      "metadata": {
        "id": "8yNN5MAMk-3E",
        "colab": {
          "base_uri": "https://localhost:8080/"
        },
        "outputId": "090d6aea-00bc-43af-ba21-8b3f40dd849f"
      },
      "execution_count": 12,
      "outputs": [
        {
          "output_type": "stream",
          "name": "stdout",
          "text": [
            "Found emails:\n"
          ]
        }
      ]
    }
  ]
}